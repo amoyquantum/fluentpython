{
 "cells": [
  {
   "cell_type": "markdown",
   "metadata": {},
   "source": [
    "# CHAPTER 14 Iterables, iterators and generators\n",
    "Every generator is an iterator: generators fully implement the iterator\n",
    "interface. But an iterator — as defined in the GoF book — retrieves\n",
    "items from a collection, while a generator can produce items\n",
    "“out of thin air”. That’s why the Fibonacci sequence generator is a\n",
    "common example: an infinite series of numbers cannot be stored\n",
    "in a collection. However, be aware that the Python community\n",
    "treats iterator and generator as synonyms most of the time.\n",
    "## Sentence take #1: a sequence of words\n"
   ]
  },
  {
   "cell_type": "code",
   "execution_count": 15,
   "metadata": {
    "collapsed": true
   },
   "outputs": [],
   "source": [
    "import re\n",
    "import reprlib\n",
    "RE_WORD = re.compile('\\w+')\n",
    "class Sentence:\n",
    "    def __init__(self, text):\n",
    "        self.text = text\n",
    "        self.words = RE_WORD.findall(text)\n",
    "    def __getitem__(self, index):\n",
    "        return self.words[index]\n",
    "    def __len__(self):\n",
    "        return len(self.words)\n",
    "    def __repr__(self):\n",
    "        return 'Sentence(%s)' % reprlib.repr(self.text)"
   ]
  },
  {
   "cell_type": "code",
   "execution_count": 2,
   "metadata": {},
   "outputs": [
    {
     "data": {
      "text/plain": [
       "Sentence('\"The time ha... Walrus said,')"
      ]
     },
     "execution_count": 2,
     "metadata": {},
     "output_type": "execute_result"
    }
   ],
   "source": [
    "s = Sentence('\"The time has come,\" the Walrus said,')\n",
    "s"
   ]
  },
  {
   "cell_type": "code",
   "execution_count": 3,
   "metadata": {},
   "outputs": [
    {
     "name": "stdout",
     "output_type": "stream",
     "text": [
      "The\n",
      "time\n",
      "has\n",
      "come\n",
      "the\n",
      "Walrus\n",
      "said\n"
     ]
    }
   ],
   "source": [
    "for word in s: print (word)"
   ]
  },
  {
   "cell_type": "code",
   "execution_count": 4,
   "metadata": {},
   "outputs": [
    {
     "data": {
      "text/plain": [
       "['The', 'time', 'has', 'come', 'the', 'Walrus', 'said']"
      ]
     },
     "execution_count": 4,
     "metadata": {},
     "output_type": "execute_result"
    }
   ],
   "source": [
    "list(s)"
   ]
  },
  {
   "cell_type": "code",
   "execution_count": 5,
   "metadata": {},
   "outputs": [
    {
     "data": {
      "text/plain": [
       "'the'"
      ]
     },
     "execution_count": 5,
     "metadata": {},
     "output_type": "execute_result"
    }
   ],
   "source": [
    "s[4]"
   ]
  },
  {
   "cell_type": "markdown",
   "metadata": {},
   "source": [
    "### Why sequences are iterable: the iter function\n",
    "Whenever the interpreter needs to iterate over an object x, it automatically calls iter(x).\n",
    "The iter built-in function:\n",
    "1. Checks whether the object implements, __iter__, and calls that to obtain an iterator;\n",
    "2. If __iter__ is not implemented, but __getitem__ is implemented, Python creates\n",
    "an iterator that attempts to fetch items in order, starting from index 0 (zero);\n",
    "3. If that fails, Python raises TypeError, usually saying \"'C' object is not itera\n",
    "ble\", where C is the class of the target object.\n",
    "That is why any Python sequence is iterable: they all implement __getitem__. In fact,\n",
    "the standard sequences also implement __iter__, and yours should too\n",
    "\n"
   ]
  },
  {
   "cell_type": "code",
   "execution_count": 6,
   "metadata": {},
   "outputs": [
    {
     "data": {
      "text/plain": [
       "True"
      ]
     },
     "execution_count": 6,
     "metadata": {},
     "output_type": "execute_result"
    }
   ],
   "source": [
    "class Foo:\n",
    "    def __iter__(self):\n",
    "         pass\n",
    "from collections import abc\n",
    "issubclass(Foo, abc.Iterable)"
   ]
  },
  {
   "cell_type": "code",
   "execution_count": 7,
   "metadata": {},
   "outputs": [
    {
     "data": {
      "text/plain": [
       "True"
      ]
     },
     "execution_count": 7,
     "metadata": {},
     "output_type": "execute_result"
    }
   ],
   "source": [
    "f = Foo()\n",
    "isinstance(f, abc.Iterable)"
   ]
  },
  {
   "cell_type": "markdown",
   "metadata": {},
   "source": [
    "## Iterables versus iterators\n",
    "iterable\n",
    "Any object from which the iter built-in function can obtain an iterator. Objects\n",
    "implementing an __iter__ method returning an iterator are iterable. Sequences\n",
    "are always iterable; so as are objects implementing a __getitem__ method which\n",
    "takes 0-based indexes.\n",
    "It’s important to be clear about the relationship between iterables and iterators: Python\n",
    "obtains iterators from iterables."
   ]
  },
  {
   "cell_type": "code",
   "execution_count": 1,
   "metadata": {},
   "outputs": [
    {
     "name": "stdout",
     "output_type": "stream",
     "text": [
      "a\n",
      "b\n",
      "c\n"
     ]
    }
   ],
   "source": [
    "s='abc'\n",
    "for char in s :\n",
    "    print(char)"
   ]
  },
  {
   "cell_type": "code",
   "execution_count": null,
   "metadata": {
    "collapsed": true
   },
   "outputs": [],
   "source": []
  },
  {
   "cell_type": "code",
   "execution_count": 4,
   "metadata": {},
   "outputs": [
    {
     "name": "stdout",
     "output_type": "stream",
     "text": [
      "a\n",
      "b\n",
      "c\n"
     ]
    }
   ],
   "source": [
    "s='abc'\n",
    "it=iter(s)\n",
    "while True:\n",
    "    try:\n",
    "        print(next(it))\n",
    "    except StopIteration: #\n",
    "        break\n",
    "    "
   ]
  },
  {
   "cell_type": "markdown",
   "metadata": {},
   "source": [
    "StopIteration signals that the iterator is exhausted. This exception is handled internally\n",
    "in for loops and other iteration contexts like list comprehensions, tuple unpacking\n",
    "etc.\n",
    "The standard interface for an iterator has two methods:\n",
    "__next__\n",
    "Returns the next available item, raising StopIteration when there are no more\n",
    "items.\n",
    "__iter__\n",
    "Returns self; this allows iterators to be used where an iterable is expected, for\n",
    "example, in a for loop.\n",
    "the best way to check if an object x is an iterator is to call\n",
    "isinstance(x, abc.Iterator).\n",
    "\n"
   ]
  },
  {
   "cell_type": "code",
   "execution_count": 9,
   "metadata": {},
   "outputs": [
    {
     "data": {
      "text/plain": [
       "(<iterator at 0x54d82b0>, 'Pig', 'and', 'Pepper')"
      ]
     },
     "execution_count": 9,
     "metadata": {},
     "output_type": "execute_result"
    }
   ],
   "source": [
    "s3 = Sentence('Pig and Pepper') #\n",
    "it = iter(s3)\n",
    "it,next(it),next(it),next(it)"
   ]
  },
  {
   "cell_type": "code",
   "execution_count": 10,
   "metadata": {},
   "outputs": [
    {
     "ename": "StopIteration",
     "evalue": "",
     "output_type": "error",
     "traceback": [
      "\u001b[1;31m---------------------------------------------------------------------------\u001b[0m",
      "\u001b[1;31mStopIteration\u001b[0m                             Traceback (most recent call last)",
      "\u001b[1;32m<ipython-input-10-bc1ab118995a>\u001b[0m in \u001b[0;36m<module>\u001b[1;34m()\u001b[0m\n\u001b[1;32m----> 1\u001b[1;33m \u001b[0mnext\u001b[0m\u001b[1;33m(\u001b[0m\u001b[0mit\u001b[0m\u001b[1;33m)\u001b[0m\u001b[1;33m\u001b[0m\u001b[0m\n\u001b[0m",
      "\u001b[1;31mStopIteration\u001b[0m: "
     ]
    }
   ],
   "source": [
    "next(it)"
   ]
  },
  {
   "cell_type": "code",
   "execution_count": 11,
   "metadata": {},
   "outputs": [
    {
     "data": {
      "text/plain": [
       "[]"
      ]
     },
     "execution_count": 11,
     "metadata": {},
     "output_type": "execute_result"
    }
   ],
   "source": [
    "list(it)"
   ]
  },
  {
   "cell_type": "code",
   "execution_count": 14,
   "metadata": {},
   "outputs": [
    {
     "data": {
      "text/plain": [
       "(['Pig', 'and', 'Pepper'], ['Pig', 'and', 'Pepper'])"
      ]
     },
     "execution_count": 14,
     "metadata": {},
     "output_type": "execute_result"
    }
   ],
   "source": [
    "list(s3),list(iter(s3))"
   ]
  },
  {
   "cell_type": "markdown",
   "metadata": {},
   "source": [
    "Since the only methods required of an iterator are __next__ and __iter__, there is no\n",
    "way to check whether there are remaining items, other than call next() and catch\n",
    "StopInteration. Also, it’s not possible to “reset” an iterator. If you need to start over,\n",
    "you need to call iter(…) on the iterable that built the iterator in the first place. Calling\n",
    "iter(…) on the iterator itself won’t help, because — as mentioned — Itera\n",
    "tor.__iter__ is implemented by returning self, so this will not reset a depleted iterator."
   ]
  },
  {
   "cell_type": "markdown",
   "metadata": {},
   "source": [
    "## Sentence take #2: a classic iterator\n"
   ]
  },
  {
   "cell_type": "code",
   "execution_count": 16,
   "metadata": {
    "collapsed": true
   },
   "outputs": [],
   "source": [
    "import re\n",
    "import reprlib\n",
    "RE_WORD = re.compile('\\w+')#Compile a regular expression pattern into a regular expression object,\n",
    "                            #which can be used for matching using its match(), search() and other methods\n",
    "class Sentence:\n",
    "    def __init__(self, text):\n",
    "        self.text = text\n",
    "        self.words = RE_WORD.findall(text) #Return all non-overlapping matches of pattern in string, as a list of strings.\n",
    "    def __repr__(self):\n",
    "        return 'Sentence(%s)' % reprlib.repr(self.text)\n",
    "    def __iter__(self):\n",
    "        return SentenceIterator(self.words)\n",
    "\n",
    "class SentenceIterator:\n",
    "    def __init__(self, words):\n",
    "        self.words = words\n",
    "        self.index = 0\n",
    "    def __next__(self):\n",
    "        try:\n",
    "            word = self.words[self.index]\n",
    "        except IndexError:\n",
    "            raise StopIteration()\n",
    "        self.index += 1\n",
    "        return word\n",
    "    def __iter__(self):\n",
    "        return self"
   ]
  },
  {
   "cell_type": "markdown",
   "metadata": {},
   "source": [
    "### Making Sentence an iterator: bad idea\n",
    "A common cause of errors in building iterables and iterators is to confuse the two. To\n",
    "be clear: iterables have a __iter__ method that instantiates a new iterator every time.\n",
    "Iterators implement a __next__ method that returns individual items, and a __iter__\n",
    "method that returns self.\n",
    "Therefore, iterators are also iterable, but iterables are not iterators.\n",
    "The Applicability section4 of the Iterator design pattern in the GoF book says:\n",
    "Use the Iterator pattern\n",
    "• to access an aggregate object’s contents without exposing its internal representation.\n",
    "• to support multiple traversals of aggregate objects.\n",
    "• to provide a uniform interface for traversing different aggregate structures (that is,\n",
    "to support polymorphic iteration).\n",
    "\n",
    "To “support multiple traversals” it must be possible to obtain multiple independent\n",
    "iterators from the same iterable instance, and each iterator must keep its own internal\n",
    "state, so a proper implementation of the pattern requires each call to iter(my_itera\n",
    "ble) to create a new, independent, iterator. That is why we need the SentenceItera\n",
    "tor class in this example.\n",
    "\n",
    "\n",
    "An iterable should never act as an iterator over itself. In other words,\n",
    "iterables must implement __iter__, but not __next__.\n",
    "On the other hand, for convenience, iterators should be iterable. An\n",
    "iterator’s __iter__ should just return self.\n",
    "## Sentence take #3: a generator function"
   ]
  },
  {
   "cell_type": "code",
   "execution_count": 17,
   "metadata": {
    "collapsed": true
   },
   "outputs": [],
   "source": [
    "import re\n",
    "import reprlib\n",
    "RE_WORD = re.compile('\\w+')\n",
    "class Sentence:\n",
    "    def __init__(self, text):\n",
    "        self.text = text\n",
    "        self.words = RE_WORD.findall(text)\n",
    "    def __repr__(self):\n",
    "        return 'Sentence(%s)' % reprlib.repr(self.text)\n",
    "    def __iter__(self):\n",
    "        for word in self.words:\n",
    "            yield word\n",
    "        return  #This return is not needed\n",
    "    "
   ]
  },
  {
   "cell_type": "markdown",
   "metadata": {},
   "source": [
    "### How a generator function works\n",
    "Any Python function that has the yield keyword in its body is a generator function: a\n",
    "function which, when called, returns a generator object. In other words, a generator\n",
    "function is a generator factory.\n"
   ]
  },
  {
   "cell_type": "code",
   "execution_count": 18,
   "metadata": {
    "collapsed": true
   },
   "outputs": [],
   "source": [
    "def gen_123(): #\n",
    "    yield 1 #\n",
    "    yield 2\n",
    "    yield 3"
   ]
  },
  {
   "cell_type": "code",
   "execution_count": 19,
   "metadata": {},
   "outputs": [
    {
     "data": {
      "text/plain": [
       "<generator object gen_123 at 0x00000000054ED830>"
      ]
     },
     "execution_count": 19,
     "metadata": {},
     "output_type": "execute_result"
    }
   ],
   "source": [
    "gen_123()"
   ]
  },
  {
   "cell_type": "code",
   "execution_count": 20,
   "metadata": {},
   "outputs": [
    {
     "name": "stdout",
     "output_type": "stream",
     "text": [
      "1\n",
      "2\n",
      "3\n"
     ]
    }
   ],
   "source": [
    "for i in gen_123(): \n",
    "    print(i)"
   ]
  },
  {
   "cell_type": "code",
   "execution_count": 21,
   "metadata": {},
   "outputs": [
    {
     "data": {
      "text/plain": [
       "(1, 2, 3)"
      ]
     },
     "execution_count": 21,
     "metadata": {},
     "output_type": "execute_result"
    }
   ],
   "source": [
    "g=gen_123()\n",
    "next(g),next(g),next(g)"
   ]
  },
  {
   "cell_type": "code",
   "execution_count": 22,
   "metadata": {},
   "outputs": [
    {
     "ename": "StopIteration",
     "evalue": "",
     "output_type": "error",
     "traceback": [
      "\u001b[1;31m---------------------------------------------------------------------------\u001b[0m",
      "\u001b[1;31mStopIteration\u001b[0m                             Traceback (most recent call last)",
      "\u001b[1;32m<ipython-input-22-e734f8aca5ac>\u001b[0m in \u001b[0;36m<module>\u001b[1;34m()\u001b[0m\n\u001b[1;32m----> 1\u001b[1;33m \u001b[0mnext\u001b[0m\u001b[1;33m(\u001b[0m\u001b[0mg\u001b[0m\u001b[1;33m)\u001b[0m\u001b[1;33m\u001b[0m\u001b[0m\n\u001b[0m",
      "\u001b[1;31mStopIteration\u001b[0m: "
     ]
    }
   ],
   "source": [
    "next(g)"
   ]
  },
  {
   "cell_type": "markdown",
   "metadata": {},
   "source": [
    "A generator function builds a generator object which wraps the body of the function.\n",
    "When we invoke next(…) on the generator object, execution advances to the next yield\n",
    "in the function body, and the next(…) call evaluates to the value yielded when the function\n",
    "body is suspended. Finally, when the function body returns, the enclosing generator\n",
    "object raises StopIteration, in accordance with the Iterator protocol."
   ]
  },
  {
   "cell_type": "code",
   "execution_count": 4,
   "metadata": {
    "collapsed": true
   },
   "outputs": [],
   "source": [
    "def gen_AB(): #\n",
    "    print('start')\n",
    "    yield 'A' #\n",
    "    print('continue')\n",
    "    yield 'B' #\n",
    "    print('end.')\n",
    "    "
   ]
  },
  {
   "cell_type": "code",
   "execution_count": 24,
   "metadata": {},
   "outputs": [
    {
     "name": "stdout",
     "output_type": "stream",
     "text": [
      "start\n",
      "--> A\n",
      "continue\n",
      "--> B\n",
      "end.\n"
     ]
    }
   ],
   "source": [
    "for c in gen_AB(): #\n",
    "    print('-->', c)"
   ]
  },
  {
   "cell_type": "code",
   "execution_count": 25,
   "metadata": {},
   "outputs": [
    {
     "name": "stdout",
     "output_type": "stream",
     "text": [
      "start\n"
     ]
    },
    {
     "data": {
      "text/plain": [
       "'A'"
      ]
     },
     "execution_count": 25,
     "metadata": {},
     "output_type": "execute_result"
    }
   ],
   "source": [
    "a=gen_AB();\n",
    "next(a)"
   ]
  },
  {
   "cell_type": "code",
   "execution_count": 26,
   "metadata": {},
   "outputs": [
    {
     "name": "stdout",
     "output_type": "stream",
     "text": [
      "continue\n"
     ]
    },
    {
     "data": {
      "text/plain": [
       "'B'"
      ]
     },
     "execution_count": 26,
     "metadata": {},
     "output_type": "execute_result"
    }
   ],
   "source": [
    "next(a)"
   ]
  },
  {
   "cell_type": "code",
   "execution_count": 27,
   "metadata": {},
   "outputs": [
    {
     "name": "stdout",
     "output_type": "stream",
     "text": [
      "end.\n"
     ]
    },
    {
     "ename": "StopIteration",
     "evalue": "",
     "output_type": "error",
     "traceback": [
      "\u001b[1;31m---------------------------------------------------------------------------\u001b[0m",
      "\u001b[1;31mStopIteration\u001b[0m                             Traceback (most recent call last)",
      "\u001b[1;32m<ipython-input-27-15841f3f11d4>\u001b[0m in \u001b[0;36m<module>\u001b[1;34m()\u001b[0m\n\u001b[1;32m----> 1\u001b[1;33m \u001b[0mnext\u001b[0m\u001b[1;33m(\u001b[0m\u001b[0ma\u001b[0m\u001b[1;33m)\u001b[0m\u001b[1;33m\u001b[0m\u001b[0m\n\u001b[0m",
      "\u001b[1;31mStopIteration\u001b[0m: "
     ]
    }
   ],
   "source": [
    "next(a)"
   ]
  },
  {
   "cell_type": "markdown",
   "metadata": {},
   "source": [
    "## Sentence take #4: a lazy implementation\n",
    "The re.finditer function is a lazy version of re.findall which, instead of a list, returns\n",
    "a generator producing re.MatchObject instances on demand. If there are many\n",
    "matches, re.finditer saves a lot of memory. Using it, our third version of Sentence is\n",
    "now lazy: it only produces the next word when it is needed."
   ]
  },
  {
   "cell_type": "code",
   "execution_count": 2,
   "metadata": {
    "collapsed": true
   },
   "outputs": [],
   "source": [
    "import re\n",
    "import reprlib\n",
    "RE_WORD = re.compile('\\w+')\n",
    "class Sentence:\n",
    "    def __init__(self, text):\n",
    "        self.text = text\n",
    "    def __repr__(self):\n",
    "        return 'Sentence(%s)' % reprlib.repr(self.text)\n",
    "    def __iter__(self):\n",
    "        for match in RE_WORD.finditer(self.text):\n",
    "            # finditer return an iterator yielding match objects over all non-overlapping matches for the RE pattern in string.\n",
    "            yield match.group()  # Returns one or more subgroups of the match. "
   ]
  },
  {
   "cell_type": "markdown",
   "metadata": {},
   "source": [
    "## Sentence take #5: a generator expression\n"
   ]
  },
  {
   "cell_type": "code",
   "execution_count": 5,
   "metadata": {},
   "outputs": [
    {
     "name": "stdout",
     "output_type": "stream",
     "text": [
      "start\n",
      "continue\n",
      "end.\n"
     ]
    }
   ],
   "source": [
    "res1 = [x*3 for x in gen_AB()]"
   ]
  },
  {
   "cell_type": "markdown",
   "metadata": {},
   "source": [
    "The list comprehension eagerly iterates over the items yielded by the generator\n",
    "object produced by calling gen_AB(): 'A' and 'B'."
   ]
  },
  {
   "cell_type": "code",
   "execution_count": 6,
   "metadata": {},
   "outputs": [
    {
     "name": "stdout",
     "output_type": "stream",
     "text": [
      "--> AAA\n",
      "--> BBB\n"
     ]
    }
   ],
   "source": [
    "for i in res1: #\n",
    "    print('-->', i)"
   ]
  },
  {
   "cell_type": "code",
   "execution_count": 7,
   "metadata": {
    "collapsed": true
   },
   "outputs": [],
   "source": [
    "res2 = (x*3 for x in gen_AB())"
   ]
  },
  {
   "cell_type": "markdown",
   "metadata": {},
   "source": [
    "The generator expression returns res2. The call to gen_AB() is made, but that\n",
    "call returns a generator which is not consumed here."
   ]
  },
  {
   "cell_type": "code",
   "execution_count": 8,
   "metadata": {},
   "outputs": [
    {
     "data": {
      "text/plain": [
       "<generator object <genexpr> at 0x00000000059F49E8>"
      ]
     },
     "execution_count": 8,
     "metadata": {},
     "output_type": "execute_result"
    }
   ],
   "source": [
    "res2"
   ]
  },
  {
   "cell_type": "code",
   "execution_count": 9,
   "metadata": {},
   "outputs": [
    {
     "name": "stdout",
     "output_type": "stream",
     "text": [
      "start\n",
      "--> AAA\n",
      "continue\n",
      "--> BBB\n",
      "end.\n"
     ]
    }
   ],
   "source": [
    "for i in res2: #\n",
    "    print('-->', i)"
   ]
  },
  {
   "cell_type": "code",
   "execution_count": 11,
   "metadata": {
    "collapsed": true
   },
   "outputs": [],
   "source": [
    "import re\n",
    "import reprlib\n",
    "RE_WORD = re.compile('\\w+')\n",
    "class Sentence:\n",
    "    def __init__(self, text):\n",
    "        self.text = text\n",
    "    def __repr__(self):\n",
    "        return 'Sentence(%s)' % reprlib.repr(self.text)\n",
    "    def __iter__(self):\n",
    "        return (match.group() for match in RE_WORD.finditer(self.text))"
   ]
  },
  {
   "cell_type": "markdown",
   "metadata": {},
   "source": [
    "## Generator expressions: when to use them\n",
    "My rule of thumb in choosing the syntax to use is simple: if the generator expression\n",
    "spans more than a couple of lines, I prefer to code a generator function for the sake of\n",
    "readability. Also, because generator functions have a name, they can be reused. You can\n",
    "always name a generator expression and use it later by assigning it to a variable, of course,\n",
    "but that is stretching its intended usage as a one-off generator.\n",
    "## Another example: arithmetic progression generator"
   ]
  },
  {
   "cell_type": "code",
   "execution_count": 12,
   "metadata": {
    "collapsed": true
   },
   "outputs": [],
   "source": [
    "class ArithmeticProgression:\n",
    "    def __init__(self, begin, step, end=None):\n",
    "        self.begin = begin\n",
    "        self.step = step\n",
    "        self.end = end # None -> \"infinite\" series\n",
    "    def __iter__(self):\n",
    "        result = type(self.begin + self.step)(self.begin)\n",
    "        forever = self.end is None\n",
    "        index = 0\n",
    "        while forever or result < self.end:\n",
    "            yield result"
   ]
  },
  {
   "cell_type": "code",
   "execution_count": null,
   "metadata": {
    "collapsed": true
   },
   "outputs": [],
   "source": []
  }
 ],
 "metadata": {
  "kernelspec": {
   "display_name": "Python 3",
   "language": "python",
   "name": "python3"
  },
  "language_info": {
   "codemirror_mode": {
    "name": "ipython",
    "version": 3
   },
   "file_extension": ".py",
   "mimetype": "text/x-python",
   "name": "python",
   "nbconvert_exporter": "python",
   "pygments_lexer": "ipython3",
   "version": "3.6.3"
  }
 },
 "nbformat": 4,
 "nbformat_minor": 2
}
